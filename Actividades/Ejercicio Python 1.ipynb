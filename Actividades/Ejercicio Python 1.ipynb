{
  "nbformat": 4,
  "nbformat_minor": 0,
  "metadata": {
    "colab": {
      "provenance": [],
      "authorship_tag": "ABX9TyP50gWJpWc5tuA8OWKiYXQv",
      "include_colab_link": true
    },
    "kernelspec": {
      "name": "python3",
      "display_name": "Python 3"
    },
    "language_info": {
      "name": "python"
    }
  },
  "cells": [
    {
      "cell_type": "markdown",
      "metadata": {
        "id": "view-in-github",
        "colab_type": "text"
      },
      "source": [
        "<a href=\"https://colab.research.google.com/github/ev296/IntArt-y-RedNeu/blob/main/TAREA_2.ipynb\" target=\"_parent\"><img src=\"https://colab.research.google.com/assets/colab-badge.svg\" alt=\"Open In Colab\"/></a>"
      ]
    },
    {
      "cell_type": "markdown",
      "source": [
        "\n",
        "\n",
        "# **Evelyn Náñez Ibáñez     1961288      Tarea 2**\n",
        "\n",
        "1. Desarrolla un algoritmo que le pida al usuario por su nombre y que lo salude con su nombre, excepto si se llama “Ana”, “Juan”, y “Pedro”."
      ],
      "metadata": {
        "id": "w7l1Mqjsjcxu"
      }
    },
    {
      "cell_type": "code",
      "source": [
        "#Tarea 2 Ejercicios en Phyton Evelyn Náñez Ibáñez 1961288   N1\n",
        "name= input(\"Hola, cual es tu nombre \")\n",
        "if name == \"Pedro\" or name == \"pedro\" or name == name ==  \"Ana\" or name ==  \"ana\"  or name == \"juan\" or name == \"Juan\":\n",
        "  print (\"Creo que no te puedo saludar, te sugiero que cambies de nombre\")\n",
        "else:\n",
        "  print (\"Hola \")\n",
        "  print (name)\n",
        "  print (\"¿cómo estás?\")\n"
      ],
      "metadata": {
        "id": "PbhBdVNUjsa_",
        "colab": {
          "base_uri": "https://localhost:8080/"
        },
        "outputId": "be7d683f-7aa5-4e7e-b76c-c9599298f326"
      },
      "execution_count": 32,
      "outputs": [
        {
          "output_type": "stream",
          "name": "stdout",
          "text": [
            "Hola, cual es tu nombre juan\n",
            "Creo que no te puedo saludar, te sugiero que cambies de nombre\n"
          ]
        }
      ]
    },
    {
      "cell_type": "markdown",
      "source": [
        "2. Desarrolla un algoritmo que por medio de una función, le pida al usuario una lista de N elementos y como resultado invierta el sentido de la lista. "
      ],
      "metadata": {
        "id": "lC7_707ojc-p"
      }
    },
    {
      "cell_type": "code",
      "source": [
        "def func():\n",
        "  lista = input(\"Dame una lista de elementos, de lo que gustes: \")\n",
        "  reves = lista.split(\",\")\n",
        "  reves.reverse()\n",
        "  print(\"Invertida: \", reves)\n",
        "\n"
      ],
      "metadata": {
        "id": "j2-e7k7msDuA"
      },
      "execution_count": 42,
      "outputs": []
    },
    {
      "cell_type": "code",
      "source": [
        "func()\n"
      ],
      "metadata": {
        "colab": {
          "base_uri": "https://localhost:8080/"
        },
        "id": "YEpPVj0uuwZQ",
        "outputId": "48207aff-53ac-4912-ef4e-6b503536c362"
      },
      "execution_count": 43,
      "outputs": [
        {
          "output_type": "stream",
          "name": "stdout",
          "text": [
            "Dame una lista de elementos, de lo que gustes: 33, 66, 44, 66, 77777\n",
            "Invertida:  [' 77777', ' 66', ' 44', ' 66', '33']\n"
          ]
        }
      ]
    },
    {
      "cell_type": "markdown",
      "source": [
        "3. Desarrolla un algoritmo que le pregunte al usuario cuántos números de la serie de Fibonnaci quiere generar y que al final los imprima. "
      ],
      "metadata": {
        "id": "IlgeLfYjvGX4"
      }
    },
    {
      "cell_type": "code",
      "source": [
        "num = int (input(\"Cuántos números de la serie de Fibonacci te gustaría calcular?\"))\n",
        "a = 0\n",
        "b = 1\n",
        "print(\"Los primeros\", num, \"números de la serie de Fibonacci son:\")\n",
        "for i in range(num):\n",
        "    print(b)\n",
        "    c = a + b\n",
        "    a = b\n",
        "    b = c\n"
      ],
      "metadata": {
        "colab": {
          "base_uri": "https://localhost:8080/"
        },
        "id": "gXtbWFJXvZwQ",
        "outputId": "960d9bfb-bc32-48f2-95ce-d1179666ec4d"
      },
      "execution_count": 38,
      "outputs": [
        {
          "output_type": "stream",
          "name": "stdout",
          "text": [
            "Cuántos números de la serie de Fibonacci te gustaría calcular?7\n",
            "Los primeros 7 números de la serie de Fibonacci son:\n",
            "1\n",
            "1\n",
            "2\n",
            "3\n",
            "5\n",
            "8\n",
            "13\n"
          ]
        }
      ]
    }
  ]
}
